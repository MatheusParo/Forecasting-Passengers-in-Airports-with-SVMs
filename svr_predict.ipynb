{
  "nbformat": 4,
  "nbformat_minor": 0,
  "metadata": {
    "colab": {
      "name": "svr_predict.ipynb",
      "provenance": [],
      "collapsed_sections": [],
      "toc_visible": true
    },
    "kernelspec": {
      "name": "python3",
      "display_name": "Python 3"
    }
  },
  "cells": [
    {
      "cell_type": "markdown",
      "metadata": {
        "id": "m3PAEPRDRLA3"
      },
      "source": [
        "# Support Vector Regression (SVR)"
      ]
    },
    {
      "cell_type": "markdown",
      "metadata": {
        "id": "0VCUAVIjRdzZ"
      },
      "source": [
        "## Importing the libraries"
      ]
    },
    {
      "cell_type": "code",
      "metadata": {
        "id": "56oRF-QfSDzC"
      },
      "source": [
        "import numpy as np\n",
        "import matplotlib.pyplot as plt\n",
        "import pandas as pd"
      ],
      "execution_count": null,
      "outputs": []
    },
    {
      "cell_type": "markdown",
      "metadata": {
        "id": "fXVXoFWtSF4_"
      },
      "source": [
        "## Importing the dataset"
      ]
    },
    {
      "cell_type": "code",
      "metadata": {
        "id": "xfoa8OSORfHQ"
      },
      "source": [
        "dataset = pd.read_csv('corona_ext_final.csv')\n",
        "X = dataset.iloc[:, 0:1].values\n",
        "y = dataset.iloc[:, 1].values"
      ],
      "execution_count": null,
      "outputs": []
    },
    {
      "cell_type": "code",
      "metadata": {
        "id": "fAWJV6gpiTYM",
        "colab": {
          "base_uri": "https://localhost:8080/",
          "height": 572
        },
        "outputId": "b7b6c414-56ce-4cc0-c814-15d449da8093"
      },
      "source": [
        "print( X)"
      ],
      "execution_count": null,
      "outputs": [
        {
          "output_type": "stream",
          "text": [
            "[[ 0]\n",
            " [ 1]\n",
            " [ 2]\n",
            " [ 3]\n",
            " [ 4]\n",
            " [ 5]\n",
            " [ 6]\n",
            " [ 7]\n",
            " [ 8]\n",
            " [ 9]\n",
            " [10]\n",
            " [11]\n",
            " [12]\n",
            " [13]\n",
            " [14]\n",
            " [15]\n",
            " [16]\n",
            " [17]\n",
            " [18]\n",
            " [19]\n",
            " [20]\n",
            " [21]\n",
            " [22]\n",
            " [23]\n",
            " [24]\n",
            " [25]\n",
            " [26]\n",
            " [27]\n",
            " [28]\n",
            " [29]\n",
            " [30]\n",
            " [31]]\n"
          ],
          "name": "stdout"
        }
      ]
    },
    {
      "cell_type": "code",
      "metadata": {
        "id": "P1CzeAyRiU3c",
        "colab": {
          "base_uri": "https://localhost:8080/",
          "height": 86
        },
        "outputId": "6a6d1f3a-5484-4182-a5c3-94ee1c29fd92"
      },
      "source": [
        "print(y)"
      ],
      "execution_count": null,
      "outputs": [
        {
          "output_type": "stream",
          "text": [
            "[4126295 3913931 4576214 4798193 4955886 5074464 5527230 5382604 5199383\n",
            " 5183452 4532818 4562027 4386862 4149603 4907489 5052309 5218219 5570367\n",
            " 5944675 5790223 5571293 5487128 4779850 4876926 4663407 4149603 1975303\n",
            "   46743   81263  194734 1102854 1356383]\n"
          ],
          "name": "stdout"
        }
      ]
    },
    {
      "cell_type": "code",
      "metadata": {
        "id": "_8Ny1GfPiV3m"
      },
      "source": [
        "y = y.reshape(len(y),1)"
      ],
      "execution_count": null,
      "outputs": []
    },
    {
      "cell_type": "code",
      "metadata": {
        "id": "FURhhiiJtjft"
      },
      "source": [
        ""
      ],
      "execution_count": null,
      "outputs": []
    },
    {
      "cell_type": "code",
      "metadata": {
        "id": "D4aFLlbziaV9",
        "colab": {
          "base_uri": "https://localhost:8080/",
          "height": 572
        },
        "outputId": "b9a58d96-e6eb-49ce-db5f-7f555123f873"
      },
      "source": [
        "print(y)"
      ],
      "execution_count": null,
      "outputs": [
        {
          "output_type": "stream",
          "text": [
            "[[4126295]\n",
            " [3913931]\n",
            " [4576214]\n",
            " [4798193]\n",
            " [4955886]\n",
            " [5074464]\n",
            " [5527230]\n",
            " [5382604]\n",
            " [5199383]\n",
            " [5183452]\n",
            " [4532818]\n",
            " [4562027]\n",
            " [4386862]\n",
            " [4149603]\n",
            " [4907489]\n",
            " [5052309]\n",
            " [5218219]\n",
            " [5570367]\n",
            " [5944675]\n",
            " [5790223]\n",
            " [5571293]\n",
            " [5487128]\n",
            " [4779850]\n",
            " [4876926]\n",
            " [4663407]\n",
            " [4149603]\n",
            " [1975303]\n",
            " [  46743]\n",
            " [  81263]\n",
            " [ 194734]\n",
            " [1102854]\n",
            " [1356383]]\n"
          ],
          "name": "stdout"
        }
      ]
    },
    {
      "cell_type": "markdown",
      "metadata": {
        "id": "YS8FeLHYS-nI"
      },
      "source": [
        "## Feature Scaling"
      ]
    },
    {
      "cell_type": "code",
      "metadata": {
        "id": "PGeAlD1HTDI1"
      },
      "source": [
        "from sklearn.preprocessing import StandardScaler\n",
        "sc_X = StandardScaler()\n",
        "sc_y = StandardScaler()\n",
        "\n",
        "X = sc_X.fit_transform(X)\n",
        "y = sc_y.fit_transform(y)"
      ],
      "execution_count": null,
      "outputs": []
    },
    {
      "cell_type": "code",
      "metadata": {
        "id": "nXa8Z9FgjFTQ",
        "colab": {
          "base_uri": "https://localhost:8080/",
          "height": 572
        },
        "outputId": "a7abe5e7-8092-4bab-b34b-7035c15f100c"
      },
      "source": [
        "print(X)"
      ],
      "execution_count": null,
      "outputs": [
        {
          "output_type": "stream",
          "text": [
            "[[-1.67874412]\n",
            " [-1.57043805]\n",
            " [-1.46213197]\n",
            " [-1.3538259 ]\n",
            " [-1.24551983]\n",
            " [-1.13721376]\n",
            " [-1.02890769]\n",
            " [-0.92060161]\n",
            " [-0.81229554]\n",
            " [-0.70398947]\n",
            " [-0.5956834 ]\n",
            " [-0.48737732]\n",
            " [-0.37907125]\n",
            " [-0.27076518]\n",
            " [-0.16245911]\n",
            " [-0.05415304]\n",
            " [ 0.05415304]\n",
            " [ 0.16245911]\n",
            " [ 0.27076518]\n",
            " [ 0.37907125]\n",
            " [ 0.48737732]\n",
            " [ 0.5956834 ]\n",
            " [ 0.70398947]\n",
            " [ 0.81229554]\n",
            " [ 0.92060161]\n",
            " [ 1.02890769]\n",
            " [ 1.13721376]\n",
            " [ 1.24551983]\n",
            " [ 1.3538259 ]\n",
            " [ 1.46213197]\n",
            " [ 1.57043805]\n",
            " [ 1.67874412]]\n"
          ],
          "name": "stdout"
        }
      ]
    },
    {
      "cell_type": "code",
      "metadata": {
        "id": "i7Oo2kybjGr2",
        "colab": {
          "base_uri": "https://localhost:8080/",
          "height": 572
        },
        "outputId": "bf4cb4de-73de-4ab8-bf3b-014ef82155bf"
      },
      "source": [
        "print(y)"
      ],
      "execution_count": null,
      "outputs": [
        {
          "output_type": "stream",
          "text": [
            "[[-0.01994379]\n",
            " [-0.14357059]\n",
            " [ 0.24197465]\n",
            " [ 0.37119878]\n",
            " [ 0.46299909]\n",
            " [ 0.53202877]\n",
            " [ 0.79560457]\n",
            " [ 0.71141116]\n",
            " [ 0.60474983]\n",
            " [ 0.59547567]\n",
            " [ 0.21671185]\n",
            " [ 0.23371575]\n",
            " [ 0.13174419]\n",
            " [-0.00637513]\n",
            " [ 0.43482498]\n",
            " [ 0.51913133]\n",
            " [ 0.61571513]\n",
            " [ 0.82071659]\n",
            " [ 1.0386184 ]\n",
            " [ 0.94870483]\n",
            " [ 0.82125566]\n",
            " [ 0.77225936]\n",
            " [ 0.36052048]\n",
            " [ 0.41703286]\n",
            " [ 0.29273368]\n",
            " [-0.00637513]\n",
            " [-1.27213464]\n",
            " [-2.39483764]\n",
            " [-2.37474197]\n",
            " [-2.30868531]\n",
            " [-1.78002711]\n",
            " [-1.63243628]]\n"
          ],
          "name": "stdout"
        }
      ]
    },
    {
      "cell_type": "markdown",
      "metadata": {
        "id": "eiU6D2QFRjxY"
      },
      "source": [
        "## Training the SVR model on the whole dataset"
      ]
    },
    {
      "cell_type": "code",
      "metadata": {
        "id": "y6R4rt_GRz15",
        "colab": {
          "base_uri": "https://localhost:8080/",
          "height": 86
        },
        "outputId": "dc34815b-7998-4475-da44-cd47b6da6001"
      },
      "source": [
        "from sklearn.svm import SVR\n",
        "regressor = SVR(kernel = 'rbf')\n",
        "regressor.fit(X, y)"
      ],
      "execution_count": null,
      "outputs": [
        {
          "output_type": "stream",
          "text": [
            "/usr/local/lib/python3.6/dist-packages/sklearn/utils/validation.py:760: DataConversionWarning: A column-vector y was passed when a 1d array was expected. Please change the shape of y to (n_samples, ), for example using ravel().\n",
            "  y = column_or_1d(y, warn=True)\n"
          ],
          "name": "stderr"
        },
        {
          "output_type": "execute_result",
          "data": {
            "text/plain": [
              "SVR(C=1.0, cache_size=200, coef0=0.0, degree=3, epsilon=0.1, gamma='scale',\n",
              "    kernel='rbf', max_iter=-1, shrinking=True, tol=0.001, verbose=False)"
            ]
          },
          "metadata": {
            "tags": []
          },
          "execution_count": 30
        }
      ]
    },
    {
      "cell_type": "markdown",
      "metadata": {
        "id": "deDnDr8UR5vq"
      },
      "source": [
        "## Predicting a new result (Next month)"
      ]
    },
    {
      "cell_type": "code",
      "metadata": {
        "id": "ib89-Fq8R8v-",
        "colab": {
          "base_uri": "https://localhost:8080/",
          "height": 34
        },
        "outputId": "88485569-0368-47b5-c106-8109da7ca248"
      },
      "source": [
        "sc_y.inverse_transform(regressor.predict(sc_X.transform([[32]])))"
      ],
      "execution_count": null,
      "outputs": [
        {
          "output_type": "execute_result",
          "data": {
            "text/plain": [
              "array([4736595.80488708])"
            ]
          },
          "metadata": {
            "tags": []
          },
          "execution_count": 31
        }
      ]
    },
    {
      "cell_type": "markdown",
      "metadata": {
        "id": "zzedFlUISSu_"
      },
      "source": [
        "## Visualising the SVR results"
      ]
    },
    {
      "cell_type": "code",
      "metadata": {
        "id": "OWPRGsKpSW9U",
        "colab": {
          "base_uri": "https://localhost:8080/",
          "height": 294
        },
        "outputId": "e5da67cf-24f6-4793-ee60-aed9c66986c9"
      },
      "source": [
        "plt.scatter(sc_X.inverse_transform(X), sc_y.inverse_transform(y), color = 'red')\n",
        "plt.plot(sc_X.inverse_transform(X), sc_y.inverse_transform(regressor.predict(X)), color = 'blue')\n",
        "plt.title('Air port passengers (SVR)')\n",
        "plt.xlabel('Passengers (In millions)')\n",
        "plt.ylabel('Months')\n",
        "plt.show()"
      ],
      "execution_count": null,
      "outputs": [
        {
          "output_type": "display_data",
          "data": {
            "image/png": "[encoded data removed]",
            "text/plain": [
              "<Figure size 432x288 with 1 Axes>"
            ]
          },
          "metadata": {
            "tags": [],
            "needs_background": "light"
          }
        }
      ]
    },
    {
      "cell_type": "markdown",
      "metadata": {
        "id": "UahPVNlJSZ-K"
      },
      "source": [
        "## Visualising the SVR results (for higher resolution and smoother curve)"
      ]
    },
    {
      "cell_type": "code",
      "metadata": {
        "id": "7fkhPL7RSd2X",
        "colab": {
          "base_uri": "https://localhost:8080/",
          "height": 294
        },
        "outputId": "c26ccf57-28de-4ed3-99ec-8994ff419aef"
      },
      "source": [
        "X_grid = np.arange(min(sc_X.inverse_transform(X)), max(sc_X.inverse_transform(X)), 0.1)\n",
        "X_grid = X_grid.reshape((len(X_grid), 1))\n",
        "plt.scatter(sc_X.inverse_transform(X), sc_y.inverse_transform(y), color = 'red')\n",
        "plt.plot(X_grid, sc_y.inverse_transform(regressor.predict(sc_X.transform(X_grid))), color = 'blue')\n",
        "plt.title('Air port passengers (SVR)')\n",
        "plt.xlabel('Passengers (In millions)')\n",
        "plt.ylabel('Months')\n",
        "plt.show()"
      ],
      "execution_count": null,
      "outputs": [
        {
          "output_type": "display_data",
          "data": {
            "image/png": "[encoded data removed]",
            "text/plain": [
              "<Figure size 432x288 with 1 Axes>"
            ]
          },
          "metadata": {
            "tags": [],
            "needs_background": "light"
          }
        }
      ]
    },
    {
      "cell_type": "markdown",
      "metadata": {
        "id": "3KRH-puCyi3z"
      },
      "source": [
        "# Now to predict of the rest of the year (Medium term)\n",
        "\n",
        "First we will predict and append to the rest of the list."
      ]
    },
    {
      "cell_type": "code",
      "metadata": {
        "id": "9DUahg6OzAQC",
        "colab": {
          "base_uri": "https://localhost:8080/",
          "height": 312
        },
        "outputId": "2843e4ff-1d80-4ad6-9bff-fad1cf66b08b"
      },
      "source": [
        "for i in range(31, 48):\n",
        "  print(int(sc_y.inverse_transform(regressor.predict(sc_X.transform([[i]])))[0]))"
      ],
      "execution_count": null,
      "outputs": [
        {
          "output_type": "stream",
          "text": [
            "1168378\n",
            "1180560\n",
            "1295281\n",
            "1489919\n",
            "1738916\n",
            "2016885\n",
            "2301128\n",
            "2573342\n",
            "2820431\n",
            "3034537\n",
            "3212450\n",
            "3354648\n",
            "3464184\n",
            "3545608\n",
            "3604062\n",
            "3644603\n",
            "3671764\n"
          ],
          "name": "stdout"
        }
      ]
    }
  ]
}